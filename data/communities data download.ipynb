{
 "cells": [
  {
   "cell_type": "code",
   "execution_count": 1,
   "id": "fbcc73ee",
   "metadata": {},
   "outputs": [],
   "source": [
    "import download_subreddits \n",
    "\n",
    "directory = \"new_data/\""
   ]
  },
  {
   "cell_type": "code",
   "execution_count": 8,
   "id": "990b5631",
   "metadata": {},
   "outputs": [],
   "source": [
    "start_date = '20200313'\n",
    "end_date = '20220412'"
   ]
  },
  {
   "cell_type": "code",
   "execution_count": 6,
   "id": "d2c53835",
   "metadata": {},
   "outputs": [],
   "source": [
    "start_date = '20220101'\n",
    "end_date = '20220412'"
   ]
  },
  {
   "cell_type": "code",
   "execution_count": 9,
   "id": "0944d744",
   "metadata": {
    "scrolled": true
   },
   "outputs": [],
   "source": [
    "sub = 'WorkFromHome'\n",
    "\n",
    "\n",
    "\n",
    "download_subreddits.crawl_subreddit(sub, directory, start_date, end_date, comments = False)"
   ]
  },
  {
   "cell_type": "code",
   "execution_count": 4,
   "id": "be9417ef",
   "metadata": {},
   "outputs": [
    {
     "name": "stderr",
     "output_type": "stream",
     "text": [
      "C:\\Users\\Hailie Sun\\anaconda3\\lib\\site-packages\\psaw\\PushshiftAPI.py:252: UserWarning: Not all PushShift shards are active. Query results may be incomplete\n",
      "  warnings.warn(shards_down_message)\n",
      "C:\\Users\\Hailie Sun\\anaconda3\\lib\\site-packages\\psaw\\PushshiftAPI.py:192: UserWarning: Got non 200 code 429\n",
      "  warnings.warn(\"Got non 200 code %s\" % response.status_code)\n",
      "C:\\Users\\Hailie Sun\\anaconda3\\lib\\site-packages\\psaw\\PushshiftAPI.py:180: UserWarning: Unable to connect to pushshift.io. Retrying after backoff.\n",
      "  warnings.warn(\"Unable to connect to pushshift.io. Retrying after backoff.\")\n"
     ]
    }
   ],
   "source": [
    "sub = 'autism'\n",
    "\n",
    "\n",
    "\n",
    "download_subreddits.crawl_subreddit(sub, directory, start_date, end_date, comments = False)\n"
   ]
  },
  {
   "cell_type": "code",
   "execution_count": 6,
   "id": "7348d5ec",
   "metadata": {},
   "outputs": [],
   "source": [
    "sub = 'HealthAnxiety'\n",
    "\n",
    "\n",
    "\n",
    "download_subreddits.crawl_subreddit(sub, directory, start_date, end_date, comments = False)\n"
   ]
  },
  {
   "cell_type": "code",
   "execution_count": null,
   "id": "cabb924b",
   "metadata": {},
   "outputs": [],
   "source": []
  }
 ],
 "metadata": {
  "kernelspec": {
   "display_name": "Python 3",
   "language": "python",
   "name": "python3"
  },
  "language_info": {
   "codemirror_mode": {
    "name": "ipython",
    "version": 3
   },
   "file_extension": ".py",
   "mimetype": "text/x-python",
   "name": "python",
   "nbconvert_exporter": "python",
   "pygments_lexer": "ipython3",
   "version": "3.8.8"
  }
 },
 "nbformat": 4,
 "nbformat_minor": 5
}
